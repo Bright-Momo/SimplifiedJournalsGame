{
  "nbformat": 4,
  "nbformat_minor": 0,
  "metadata": {
    "colab": {
      "provenance": [],
      "include_colab_link": true
    },
    "kernelspec": {
      "name": "python3",
      "display_name": "Python 3"
    },
    "language_info": {
      "name": "python"
    }
  },
  "cells": [
    {
      "cell_type": "markdown",
      "metadata": {
        "id": "view-in-github",
        "colab_type": "text"
      },
      "source": [
        "<a href=\"https://colab.research.google.com/github/Bright-Momo/SimplifiedJournalsGame/blob/main/3AuthorsSimulation.ipynb\" target=\"_parent\"><img src=\"https://colab.research.google.com/assets/colab-badge.svg\" alt=\"Open In Colab\"/></a>"
      ]
    },
    {
      "cell_type": "code",
      "source": [
        "!pip install nashpy\n"
      ],
      "metadata": {
        "colab": {
          "base_uri": "https://localhost:8080/"
        },
        "id": "7GkYar8Z4Yfy",
        "outputId": "40981441-9b8d-46f9-98ef-ad28a07fb773"
      },
      "execution_count": 2,
      "outputs": [
        {
          "output_type": "stream",
          "name": "stdout",
          "text": [
            "Collecting nashpy\n",
            "  Downloading nashpy-0.0.41-py3-none-any.whl.metadata (6.6 kB)\n",
            "Requirement already satisfied: numpy>=1.21.0 in /usr/local/lib/python3.11/dist-packages (from nashpy) (1.26.4)\n",
            "Requirement already satisfied: scipy>=0.19.0 in /usr/local/lib/python3.11/dist-packages (from nashpy) (1.13.1)\n",
            "Requirement already satisfied: networkx>=3.0.0 in /usr/local/lib/python3.11/dist-packages (from nashpy) (3.4.2)\n",
            "Requirement already satisfied: deprecated>=1.2.14 in /usr/local/lib/python3.11/dist-packages (from nashpy) (1.2.18)\n",
            "Requirement already satisfied: wrapt<2,>=1.10 in /usr/local/lib/python3.11/dist-packages (from deprecated>=1.2.14->nashpy) (1.17.2)\n",
            "Downloading nashpy-0.0.41-py3-none-any.whl (27 kB)\n",
            "Installing collected packages: nashpy\n",
            "Successfully installed nashpy-0.0.41\n"
          ]
        }
      ]
    },
    {
      "cell_type": "code",
      "source": [
        "import nashpy as nash\n",
        "import numpy as np\n",
        "import itertools\n",
        "\n",
        "import matplotlib.pyplot as plt"
      ],
      "metadata": {
        "id": "cNhcKnbYhsu9"
      },
      "execution_count": 33,
      "outputs": []
    },
    {
      "cell_type": "code",
      "source": [
        "\n",
        "# Parameters\n",
        "alpha = 0.6    # Probability of a good paper\n",
        "epsilon = 0.1  # Probability of misclassifying a good paper as bad\n",
        "lam = 0.1       # Probability of misclassifying a bad paper as good\n",
        "r = 1.0         # Reward for author when accepted\n",
        "c = 0.5         # Cost for author when rejected\n",
        "\n"
      ],
      "metadata": {
        "id": "xn8oLGSjhv6F"
      },
      "execution_count": 4,
      "outputs": []
    },
    {
      "cell_type": "code",
      "source": [
        "# Journal payoff as average quality (as an example)\n",
        "def Q(alpha, epsilon, lam):\n",
        "    numerator = alpha * (1 - epsilon)\n",
        "    denominator = alpha * (1 - epsilon) + (1 - alpha) * lam\n",
        "    return numerator / denominator"
      ],
      "metadata": {
        "id": "BKFf01CUig4d"
      },
      "execution_count": null,
      "outputs": []
    },
    {
      "cell_type": "code",
      "source": [
        "# acceptance_probability function\n",
        "def acceptance_probability(is_good_paper, journal_strategy, epsilon, lam):\n",
        "    if journal_strategy == 0:  # Always Accept\n",
        "        return 1.0\n",
        "    elif journal_strategy == 1:  # Only Accept Good\n",
        "        return 1 - epsilon if is_good_paper else lam\n",
        "    elif journal_strategy == 2:  # Only Accept Bad\n",
        "        return epsilon if is_good_paper else 1 - lam\n",
        "    else:  # Reject All\n",
        "        return 0.0"
      ],
      "metadata": {
        "id": "MC7lrZu3SFRG"
      },
      "execution_count": 17,
      "outputs": []
    },
    {
      "cell_type": "markdown",
      "source": [
        "update for functions"
      ],
      "metadata": {
        "id": "Y63vNaO_XqfT"
      }
    },
    {
      "cell_type": "code",
      "execution_count": 25,
      "metadata": {
        "id": "eFRl8m5j3wpl"
      },
      "outputs": [],
      "source": [
        "# Single author vs journal payoff calculation\n",
        "def author_journal_payoff(author_strategy, journal_strategy, alpha, epsilon, lam, r, c):\n",
        "    if author_strategy == 0:  # Always Submit\n",
        "        good_prob, bad_prob = alpha, 1 - alpha\n",
        "    elif author_strategy == 1:  # Only Submit Good\n",
        "        good_prob, bad_prob = alpha, 0\n",
        "    elif author_strategy == 2:  # Only Submit Bad\n",
        "        good_prob, bad_prob = 0, 1 - alpha\n",
        "    else:  # No Submit\n",
        "        good_prob, bad_prob = 0, 0\n",
        "\n",
        "    p_accept_good = acceptance_probability(True, journal_strategy, epsilon, lam)\n",
        "    p_accept_bad = acceptance_probability(False, journal_strategy, epsilon, lam)\n",
        "\n",
        "    accept_rate = good_prob * p_accept_good + bad_prob * p_accept_bad\n",
        "    submit_rate = good_prob + bad_prob\n",
        "    reject_rate = submit_rate - accept_rate\n",
        "\n",
        "    author_payoff = accept_rate * r - reject_rate * c\n",
        "    journal_payoff = (good_prob * p_accept_good) / accept_rate if accept_rate > 0 else 0\n",
        "\n",
        "    return author_payoff, journal_payoff"
      ]
    },
    {
      "cell_type": "code",
      "source": [
        "# Enumerate all possible strategies\n",
        "strategies = [0, 1, 2, 3]\n",
        "\n",
        "# Evaluate and list all possible strategy combinations with their payoffs\n",
        "all_strategy_payoffs = {}"
      ],
      "metadata": {
        "id": "lN1lRIGI4XsO"
      },
      "execution_count": 19,
      "outputs": []
    },
    {
      "cell_type": "code",
      "source": [
        "for journal_strategy in strategies:\n",
        "    for authors_strategies in itertools.product(strategies, repeat=3):\n",
        "        author_payoffs = []\n",
        "        journal_qualities = []\n",
        "\n",
        "        for author_strategy in authors_strategies:\n",
        "            payoff, quality = author_journal_payoff(author_strategy, journal_strategy, alpha, epsilon, lam, r, c)\n",
        "            author_payoffs.append(payoff)\n",
        "            journal_qualities.append(quality)\n",
        "\n",
        "        avg_quality = np.mean(journal_qualities)\n",
        "        all_strategy_payoffs[(authors_strategies, journal_strategy)] = (author_payoffs, avg_quality)\n",
        "        print(f\"Strategy: {authors_strategies, journal_strategy} | Author Payoffs: {author_payoffs} | Journal Avg Quality: {avg_quality:.2f}\")\n"
      ],
      "metadata": {
        "id": "isjzu3e_sD3-",
        "colab": {
          "base_uri": "https://localhost:8080/"
        },
        "outputId": "fa600bf7-f3fb-4a25-f292-61adc50057eb"
      },
      "execution_count": 29,
      "outputs": [
        {
          "output_type": "stream",
          "name": "stdout",
          "text": [
            "Strategy: ((0, 0, 0), 0) | Author Payoffs: [1.0, 1.0, 1.0] | Journal Avg Quality: 0.60\n",
            "Strategy: ((0, 0, 1), 0) | Author Payoffs: [1.0, 1.0, 0.6] | Journal Avg Quality: 0.73\n",
            "Strategy: ((0, 0, 2), 0) | Author Payoffs: [1.0, 1.0, 0.4] | Journal Avg Quality: 0.40\n",
            "Strategy: ((0, 0, 3), 0) | Author Payoffs: [1.0, 1.0, 0.0] | Journal Avg Quality: 0.40\n",
            "Strategy: ((0, 1, 0), 0) | Author Payoffs: [1.0, 0.6, 1.0] | Journal Avg Quality: 0.73\n",
            "Strategy: ((0, 1, 1), 0) | Author Payoffs: [1.0, 0.6, 0.6] | Journal Avg Quality: 0.87\n",
            "Strategy: ((0, 1, 2), 0) | Author Payoffs: [1.0, 0.6, 0.4] | Journal Avg Quality: 0.53\n",
            "Strategy: ((0, 1, 3), 0) | Author Payoffs: [1.0, 0.6, 0.0] | Journal Avg Quality: 0.53\n",
            "Strategy: ((0, 2, 0), 0) | Author Payoffs: [1.0, 0.4, 1.0] | Journal Avg Quality: 0.40\n",
            "Strategy: ((0, 2, 1), 0) | Author Payoffs: [1.0, 0.4, 0.6] | Journal Avg Quality: 0.53\n",
            "Strategy: ((0, 2, 2), 0) | Author Payoffs: [1.0, 0.4, 0.4] | Journal Avg Quality: 0.20\n",
            "Strategy: ((0, 2, 3), 0) | Author Payoffs: [1.0, 0.4, 0.0] | Journal Avg Quality: 0.20\n",
            "Strategy: ((0, 3, 0), 0) | Author Payoffs: [1.0, 0.0, 1.0] | Journal Avg Quality: 0.40\n",
            "Strategy: ((0, 3, 1), 0) | Author Payoffs: [1.0, 0.0, 0.6] | Journal Avg Quality: 0.53\n",
            "Strategy: ((0, 3, 2), 0) | Author Payoffs: [1.0, 0.0, 0.4] | Journal Avg Quality: 0.20\n",
            "Strategy: ((0, 3, 3), 0) | Author Payoffs: [1.0, 0.0, 0.0] | Journal Avg Quality: 0.20\n",
            "Strategy: ((1, 0, 0), 0) | Author Payoffs: [0.6, 1.0, 1.0] | Journal Avg Quality: 0.73\n",
            "Strategy: ((1, 0, 1), 0) | Author Payoffs: [0.6, 1.0, 0.6] | Journal Avg Quality: 0.87\n",
            "Strategy: ((1, 0, 2), 0) | Author Payoffs: [0.6, 1.0, 0.4] | Journal Avg Quality: 0.53\n",
            "Strategy: ((1, 0, 3), 0) | Author Payoffs: [0.6, 1.0, 0.0] | Journal Avg Quality: 0.53\n",
            "Strategy: ((1, 1, 0), 0) | Author Payoffs: [0.6, 0.6, 1.0] | Journal Avg Quality: 0.87\n",
            "Strategy: ((1, 1, 1), 0) | Author Payoffs: [0.6, 0.6, 0.6] | Journal Avg Quality: 1.00\n",
            "Strategy: ((1, 1, 2), 0) | Author Payoffs: [0.6, 0.6, 0.4] | Journal Avg Quality: 0.67\n",
            "Strategy: ((1, 1, 3), 0) | Author Payoffs: [0.6, 0.6, 0.0] | Journal Avg Quality: 0.67\n",
            "Strategy: ((1, 2, 0), 0) | Author Payoffs: [0.6, 0.4, 1.0] | Journal Avg Quality: 0.53\n",
            "Strategy: ((1, 2, 1), 0) | Author Payoffs: [0.6, 0.4, 0.6] | Journal Avg Quality: 0.67\n",
            "Strategy: ((1, 2, 2), 0) | Author Payoffs: [0.6, 0.4, 0.4] | Journal Avg Quality: 0.33\n",
            "Strategy: ((1, 2, 3), 0) | Author Payoffs: [0.6, 0.4, 0.0] | Journal Avg Quality: 0.33\n",
            "Strategy: ((1, 3, 0), 0) | Author Payoffs: [0.6, 0.0, 1.0] | Journal Avg Quality: 0.53\n",
            "Strategy: ((1, 3, 1), 0) | Author Payoffs: [0.6, 0.0, 0.6] | Journal Avg Quality: 0.67\n",
            "Strategy: ((1, 3, 2), 0) | Author Payoffs: [0.6, 0.0, 0.4] | Journal Avg Quality: 0.33\n",
            "Strategy: ((1, 3, 3), 0) | Author Payoffs: [0.6, 0.0, 0.0] | Journal Avg Quality: 0.33\n",
            "Strategy: ((2, 0, 0), 0) | Author Payoffs: [0.4, 1.0, 1.0] | Journal Avg Quality: 0.40\n",
            "Strategy: ((2, 0, 1), 0) | Author Payoffs: [0.4, 1.0, 0.6] | Journal Avg Quality: 0.53\n",
            "Strategy: ((2, 0, 2), 0) | Author Payoffs: [0.4, 1.0, 0.4] | Journal Avg Quality: 0.20\n",
            "Strategy: ((2, 0, 3), 0) | Author Payoffs: [0.4, 1.0, 0.0] | Journal Avg Quality: 0.20\n",
            "Strategy: ((2, 1, 0), 0) | Author Payoffs: [0.4, 0.6, 1.0] | Journal Avg Quality: 0.53\n",
            "Strategy: ((2, 1, 1), 0) | Author Payoffs: [0.4, 0.6, 0.6] | Journal Avg Quality: 0.67\n",
            "Strategy: ((2, 1, 2), 0) | Author Payoffs: [0.4, 0.6, 0.4] | Journal Avg Quality: 0.33\n",
            "Strategy: ((2, 1, 3), 0) | Author Payoffs: [0.4, 0.6, 0.0] | Journal Avg Quality: 0.33\n",
            "Strategy: ((2, 2, 0), 0) | Author Payoffs: [0.4, 0.4, 1.0] | Journal Avg Quality: 0.20\n",
            "Strategy: ((2, 2, 1), 0) | Author Payoffs: [0.4, 0.4, 0.6] | Journal Avg Quality: 0.33\n",
            "Strategy: ((2, 2, 2), 0) | Author Payoffs: [0.4, 0.4, 0.4] | Journal Avg Quality: 0.00\n",
            "Strategy: ((2, 2, 3), 0) | Author Payoffs: [0.4, 0.4, 0.0] | Journal Avg Quality: 0.00\n",
            "Strategy: ((2, 3, 0), 0) | Author Payoffs: [0.4, 0.0, 1.0] | Journal Avg Quality: 0.20\n",
            "Strategy: ((2, 3, 1), 0) | Author Payoffs: [0.4, 0.0, 0.6] | Journal Avg Quality: 0.33\n",
            "Strategy: ((2, 3, 2), 0) | Author Payoffs: [0.4, 0.0, 0.4] | Journal Avg Quality: 0.00\n",
            "Strategy: ((2, 3, 3), 0) | Author Payoffs: [0.4, 0.0, 0.0] | Journal Avg Quality: 0.00\n",
            "Strategy: ((3, 0, 0), 0) | Author Payoffs: [0.0, 1.0, 1.0] | Journal Avg Quality: 0.40\n",
            "Strategy: ((3, 0, 1), 0) | Author Payoffs: [0.0, 1.0, 0.6] | Journal Avg Quality: 0.53\n",
            "Strategy: ((3, 0, 2), 0) | Author Payoffs: [0.0, 1.0, 0.4] | Journal Avg Quality: 0.20\n",
            "Strategy: ((3, 0, 3), 0) | Author Payoffs: [0.0, 1.0, 0.0] | Journal Avg Quality: 0.20\n",
            "Strategy: ((3, 1, 0), 0) | Author Payoffs: [0.0, 0.6, 1.0] | Journal Avg Quality: 0.53\n",
            "Strategy: ((3, 1, 1), 0) | Author Payoffs: [0.0, 0.6, 0.6] | Journal Avg Quality: 0.67\n",
            "Strategy: ((3, 1, 2), 0) | Author Payoffs: [0.0, 0.6, 0.4] | Journal Avg Quality: 0.33\n",
            "Strategy: ((3, 1, 3), 0) | Author Payoffs: [0.0, 0.6, 0.0] | Journal Avg Quality: 0.33\n",
            "Strategy: ((3, 2, 0), 0) | Author Payoffs: [0.0, 0.4, 1.0] | Journal Avg Quality: 0.20\n",
            "Strategy: ((3, 2, 1), 0) | Author Payoffs: [0.0, 0.4, 0.6] | Journal Avg Quality: 0.33\n",
            "Strategy: ((3, 2, 2), 0) | Author Payoffs: [0.0, 0.4, 0.4] | Journal Avg Quality: 0.00\n",
            "Strategy: ((3, 2, 3), 0) | Author Payoffs: [0.0, 0.4, 0.0] | Journal Avg Quality: 0.00\n",
            "Strategy: ((3, 3, 0), 0) | Author Payoffs: [0.0, 0.0, 1.0] | Journal Avg Quality: 0.20\n",
            "Strategy: ((3, 3, 1), 0) | Author Payoffs: [0.0, 0.0, 0.6] | Journal Avg Quality: 0.33\n",
            "Strategy: ((3, 3, 2), 0) | Author Payoffs: [0.0, 0.0, 0.4] | Journal Avg Quality: 0.00\n",
            "Strategy: ((3, 3, 3), 0) | Author Payoffs: [0.0, 0.0, 0.0] | Journal Avg Quality: 0.00\n",
            "Strategy: ((0, 0, 0), 1) | Author Payoffs: [0.3700000000000001, 0.3700000000000001, 0.3700000000000001] | Journal Avg Quality: 0.93\n",
            "Strategy: ((0, 0, 1), 1) | Author Payoffs: [0.3700000000000001, 0.3700000000000001, 0.51] | Journal Avg Quality: 0.95\n",
            "Strategy: ((0, 0, 2), 1) | Author Payoffs: [0.3700000000000001, 0.3700000000000001, -0.13999999999999999] | Journal Avg Quality: 0.62\n",
            "Strategy: ((0, 0, 3), 1) | Author Payoffs: [0.3700000000000001, 0.3700000000000001, 0.0] | Journal Avg Quality: 0.62\n",
            "Strategy: ((0, 1, 0), 1) | Author Payoffs: [0.3700000000000001, 0.51, 0.3700000000000001] | Journal Avg Quality: 0.95\n",
            "Strategy: ((0, 1, 1), 1) | Author Payoffs: [0.3700000000000001, 0.51, 0.51] | Journal Avg Quality: 0.98\n",
            "Strategy: ((0, 1, 2), 1) | Author Payoffs: [0.3700000000000001, 0.51, -0.13999999999999999] | Journal Avg Quality: 0.64\n",
            "Strategy: ((0, 1, 3), 1) | Author Payoffs: [0.3700000000000001, 0.51, 0.0] | Journal Avg Quality: 0.64\n",
            "Strategy: ((0, 2, 0), 1) | Author Payoffs: [0.3700000000000001, -0.13999999999999999, 0.3700000000000001] | Journal Avg Quality: 0.62\n",
            "Strategy: ((0, 2, 1), 1) | Author Payoffs: [0.3700000000000001, -0.13999999999999999, 0.51] | Journal Avg Quality: 0.64\n",
            "Strategy: ((0, 2, 2), 1) | Author Payoffs: [0.3700000000000001, -0.13999999999999999, -0.13999999999999999] | Journal Avg Quality: 0.31\n",
            "Strategy: ((0, 2, 3), 1) | Author Payoffs: [0.3700000000000001, -0.13999999999999999, 0.0] | Journal Avg Quality: 0.31\n",
            "Strategy: ((0, 3, 0), 1) | Author Payoffs: [0.3700000000000001, 0.0, 0.3700000000000001] | Journal Avg Quality: 0.62\n",
            "Strategy: ((0, 3, 1), 1) | Author Payoffs: [0.3700000000000001, 0.0, 0.51] | Journal Avg Quality: 0.64\n",
            "Strategy: ((0, 3, 2), 1) | Author Payoffs: [0.3700000000000001, 0.0, -0.13999999999999999] | Journal Avg Quality: 0.31\n",
            "Strategy: ((0, 3, 3), 1) | Author Payoffs: [0.3700000000000001, 0.0, 0.0] | Journal Avg Quality: 0.31\n",
            "Strategy: ((1, 0, 0), 1) | Author Payoffs: [0.51, 0.3700000000000001, 0.3700000000000001] | Journal Avg Quality: 0.95\n",
            "Strategy: ((1, 0, 1), 1) | Author Payoffs: [0.51, 0.3700000000000001, 0.51] | Journal Avg Quality: 0.98\n",
            "Strategy: ((1, 0, 2), 1) | Author Payoffs: [0.51, 0.3700000000000001, -0.13999999999999999] | Journal Avg Quality: 0.64\n",
            "Strategy: ((1, 0, 3), 1) | Author Payoffs: [0.51, 0.3700000000000001, 0.0] | Journal Avg Quality: 0.64\n",
            "Strategy: ((1, 1, 0), 1) | Author Payoffs: [0.51, 0.51, 0.3700000000000001] | Journal Avg Quality: 0.98\n",
            "Strategy: ((1, 1, 1), 1) | Author Payoffs: [0.51, 0.51, 0.51] | Journal Avg Quality: 1.00\n",
            "Strategy: ((1, 1, 2), 1) | Author Payoffs: [0.51, 0.51, -0.13999999999999999] | Journal Avg Quality: 0.67\n",
            "Strategy: ((1, 1, 3), 1) | Author Payoffs: [0.51, 0.51, 0.0] | Journal Avg Quality: 0.67\n",
            "Strategy: ((1, 2, 0), 1) | Author Payoffs: [0.51, -0.13999999999999999, 0.3700000000000001] | Journal Avg Quality: 0.64\n",
            "Strategy: ((1, 2, 1), 1) | Author Payoffs: [0.51, -0.13999999999999999, 0.51] | Journal Avg Quality: 0.67\n",
            "Strategy: ((1, 2, 2), 1) | Author Payoffs: [0.51, -0.13999999999999999, -0.13999999999999999] | Journal Avg Quality: 0.33\n",
            "Strategy: ((1, 2, 3), 1) | Author Payoffs: [0.51, -0.13999999999999999, 0.0] | Journal Avg Quality: 0.33\n",
            "Strategy: ((1, 3, 0), 1) | Author Payoffs: [0.51, 0.0, 0.3700000000000001] | Journal Avg Quality: 0.64\n",
            "Strategy: ((1, 3, 1), 1) | Author Payoffs: [0.51, 0.0, 0.51] | Journal Avg Quality: 0.67\n",
            "Strategy: ((1, 3, 2), 1) | Author Payoffs: [0.51, 0.0, -0.13999999999999999] | Journal Avg Quality: 0.33\n",
            "Strategy: ((1, 3, 3), 1) | Author Payoffs: [0.51, 0.0, 0.0] | Journal Avg Quality: 0.33\n",
            "Strategy: ((2, 0, 0), 1) | Author Payoffs: [-0.13999999999999999, 0.3700000000000001, 0.3700000000000001] | Journal Avg Quality: 0.62\n",
            "Strategy: ((2, 0, 1), 1) | Author Payoffs: [-0.13999999999999999, 0.3700000000000001, 0.51] | Journal Avg Quality: 0.64\n",
            "Strategy: ((2, 0, 2), 1) | Author Payoffs: [-0.13999999999999999, 0.3700000000000001, -0.13999999999999999] | Journal Avg Quality: 0.31\n",
            "Strategy: ((2, 0, 3), 1) | Author Payoffs: [-0.13999999999999999, 0.3700000000000001, 0.0] | Journal Avg Quality: 0.31\n",
            "Strategy: ((2, 1, 0), 1) | Author Payoffs: [-0.13999999999999999, 0.51, 0.3700000000000001] | Journal Avg Quality: 0.64\n",
            "Strategy: ((2, 1, 1), 1) | Author Payoffs: [-0.13999999999999999, 0.51, 0.51] | Journal Avg Quality: 0.67\n",
            "Strategy: ((2, 1, 2), 1) | Author Payoffs: [-0.13999999999999999, 0.51, -0.13999999999999999] | Journal Avg Quality: 0.33\n",
            "Strategy: ((2, 1, 3), 1) | Author Payoffs: [-0.13999999999999999, 0.51, 0.0] | Journal Avg Quality: 0.33\n",
            "Strategy: ((2, 2, 0), 1) | Author Payoffs: [-0.13999999999999999, -0.13999999999999999, 0.3700000000000001] | Journal Avg Quality: 0.31\n",
            "Strategy: ((2, 2, 1), 1) | Author Payoffs: [-0.13999999999999999, -0.13999999999999999, 0.51] | Journal Avg Quality: 0.33\n",
            "Strategy: ((2, 2, 2), 1) | Author Payoffs: [-0.13999999999999999, -0.13999999999999999, -0.13999999999999999] | Journal Avg Quality: 0.00\n",
            "Strategy: ((2, 2, 3), 1) | Author Payoffs: [-0.13999999999999999, -0.13999999999999999, 0.0] | Journal Avg Quality: 0.00\n",
            "Strategy: ((2, 3, 0), 1) | Author Payoffs: [-0.13999999999999999, 0.0, 0.3700000000000001] | Journal Avg Quality: 0.31\n",
            "Strategy: ((2, 3, 1), 1) | Author Payoffs: [-0.13999999999999999, 0.0, 0.51] | Journal Avg Quality: 0.33\n",
            "Strategy: ((2, 3, 2), 1) | Author Payoffs: [-0.13999999999999999, 0.0, -0.13999999999999999] | Journal Avg Quality: 0.00\n",
            "Strategy: ((2, 3, 3), 1) | Author Payoffs: [-0.13999999999999999, 0.0, 0.0] | Journal Avg Quality: 0.00\n",
            "Strategy: ((3, 0, 0), 1) | Author Payoffs: [0.0, 0.3700000000000001, 0.3700000000000001] | Journal Avg Quality: 0.62\n",
            "Strategy: ((3, 0, 1), 1) | Author Payoffs: [0.0, 0.3700000000000001, 0.51] | Journal Avg Quality: 0.64\n",
            "Strategy: ((3, 0, 2), 1) | Author Payoffs: [0.0, 0.3700000000000001, -0.13999999999999999] | Journal Avg Quality: 0.31\n",
            "Strategy: ((3, 0, 3), 1) | Author Payoffs: [0.0, 0.3700000000000001, 0.0] | Journal Avg Quality: 0.31\n",
            "Strategy: ((3, 1, 0), 1) | Author Payoffs: [0.0, 0.51, 0.3700000000000001] | Journal Avg Quality: 0.64\n",
            "Strategy: ((3, 1, 1), 1) | Author Payoffs: [0.0, 0.51, 0.51] | Journal Avg Quality: 0.67\n",
            "Strategy: ((3, 1, 2), 1) | Author Payoffs: [0.0, 0.51, -0.13999999999999999] | Journal Avg Quality: 0.33\n",
            "Strategy: ((3, 1, 3), 1) | Author Payoffs: [0.0, 0.51, 0.0] | Journal Avg Quality: 0.33\n",
            "Strategy: ((3, 2, 0), 1) | Author Payoffs: [0.0, -0.13999999999999999, 0.3700000000000001] | Journal Avg Quality: 0.31\n",
            "Strategy: ((3, 2, 1), 1) | Author Payoffs: [0.0, -0.13999999999999999, 0.51] | Journal Avg Quality: 0.33\n",
            "Strategy: ((3, 2, 2), 1) | Author Payoffs: [0.0, -0.13999999999999999, -0.13999999999999999] | Journal Avg Quality: 0.00\n",
            "Strategy: ((3, 2, 3), 1) | Author Payoffs: [0.0, -0.13999999999999999, 0.0] | Journal Avg Quality: 0.00\n",
            "Strategy: ((3, 3, 0), 1) | Author Payoffs: [0.0, 0.0, 0.3700000000000001] | Journal Avg Quality: 0.31\n",
            "Strategy: ((3, 3, 1), 1) | Author Payoffs: [0.0, 0.0, 0.51] | Journal Avg Quality: 0.33\n",
            "Strategy: ((3, 3, 2), 1) | Author Payoffs: [0.0, 0.0, -0.13999999999999999] | Journal Avg Quality: 0.00\n",
            "Strategy: ((3, 3, 3), 1) | Author Payoffs: [0.0, 0.0, 0.0] | Journal Avg Quality: 0.00\n",
            "Strategy: ((0, 0, 0), 2) | Author Payoffs: [0.13000000000000006, 0.13000000000000006, 0.13000000000000006] | Journal Avg Quality: 0.14\n",
            "Strategy: ((0, 0, 1), 2) | Author Payoffs: [0.13000000000000006, 0.13000000000000006, -0.21000000000000002] | Journal Avg Quality: 0.43\n",
            "Strategy: ((0, 0, 2), 2) | Author Payoffs: [0.13000000000000006, 0.13000000000000006, 0.3400000000000001] | Journal Avg Quality: 0.10\n",
            "Strategy: ((0, 0, 3), 2) | Author Payoffs: [0.13000000000000006, 0.13000000000000006, 0.0] | Journal Avg Quality: 0.10\n",
            "Strategy: ((0, 1, 0), 2) | Author Payoffs: [0.13000000000000006, -0.21000000000000002, 0.13000000000000006] | Journal Avg Quality: 0.43\n",
            "Strategy: ((0, 1, 1), 2) | Author Payoffs: [0.13000000000000006, -0.21000000000000002, -0.21000000000000002] | Journal Avg Quality: 0.71\n",
            "Strategy: ((0, 1, 2), 2) | Author Payoffs: [0.13000000000000006, -0.21000000000000002, 0.3400000000000001] | Journal Avg Quality: 0.38\n",
            "Strategy: ((0, 1, 3), 2) | Author Payoffs: [0.13000000000000006, -0.21000000000000002, 0.0] | Journal Avg Quality: 0.38\n",
            "Strategy: ((0, 2, 0), 2) | Author Payoffs: [0.13000000000000006, 0.3400000000000001, 0.13000000000000006] | Journal Avg Quality: 0.10\n",
            "Strategy: ((0, 2, 1), 2) | Author Payoffs: [0.13000000000000006, 0.3400000000000001, -0.21000000000000002] | Journal Avg Quality: 0.38\n",
            "Strategy: ((0, 2, 2), 2) | Author Payoffs: [0.13000000000000006, 0.3400000000000001, 0.3400000000000001] | Journal Avg Quality: 0.05\n",
            "Strategy: ((0, 2, 3), 2) | Author Payoffs: [0.13000000000000006, 0.3400000000000001, 0.0] | Journal Avg Quality: 0.05\n",
            "Strategy: ((0, 3, 0), 2) | Author Payoffs: [0.13000000000000006, 0.0, 0.13000000000000006] | Journal Avg Quality: 0.10\n",
            "Strategy: ((0, 3, 1), 2) | Author Payoffs: [0.13000000000000006, 0.0, -0.21000000000000002] | Journal Avg Quality: 0.38\n",
            "Strategy: ((0, 3, 2), 2) | Author Payoffs: [0.13000000000000006, 0.0, 0.3400000000000001] | Journal Avg Quality: 0.05\n",
            "Strategy: ((0, 3, 3), 2) | Author Payoffs: [0.13000000000000006, 0.0, 0.0] | Journal Avg Quality: 0.05\n",
            "Strategy: ((1, 0, 0), 2) | Author Payoffs: [-0.21000000000000002, 0.13000000000000006, 0.13000000000000006] | Journal Avg Quality: 0.43\n",
            "Strategy: ((1, 0, 1), 2) | Author Payoffs: [-0.21000000000000002, 0.13000000000000006, -0.21000000000000002] | Journal Avg Quality: 0.71\n",
            "Strategy: ((1, 0, 2), 2) | Author Payoffs: [-0.21000000000000002, 0.13000000000000006, 0.3400000000000001] | Journal Avg Quality: 0.38\n",
            "Strategy: ((1, 0, 3), 2) | Author Payoffs: [-0.21000000000000002, 0.13000000000000006, 0.0] | Journal Avg Quality: 0.38\n",
            "Strategy: ((1, 1, 0), 2) | Author Payoffs: [-0.21000000000000002, -0.21000000000000002, 0.13000000000000006] | Journal Avg Quality: 0.71\n",
            "Strategy: ((1, 1, 1), 2) | Author Payoffs: [-0.21000000000000002, -0.21000000000000002, -0.21000000000000002] | Journal Avg Quality: 1.00\n",
            "Strategy: ((1, 1, 2), 2) | Author Payoffs: [-0.21000000000000002, -0.21000000000000002, 0.3400000000000001] | Journal Avg Quality: 0.67\n",
            "Strategy: ((1, 1, 3), 2) | Author Payoffs: [-0.21000000000000002, -0.21000000000000002, 0.0] | Journal Avg Quality: 0.67\n",
            "Strategy: ((1, 2, 0), 2) | Author Payoffs: [-0.21000000000000002, 0.3400000000000001, 0.13000000000000006] | Journal Avg Quality: 0.38\n",
            "Strategy: ((1, 2, 1), 2) | Author Payoffs: [-0.21000000000000002, 0.3400000000000001, -0.21000000000000002] | Journal Avg Quality: 0.67\n",
            "Strategy: ((1, 2, 2), 2) | Author Payoffs: [-0.21000000000000002, 0.3400000000000001, 0.3400000000000001] | Journal Avg Quality: 0.33\n",
            "Strategy: ((1, 2, 3), 2) | Author Payoffs: [-0.21000000000000002, 0.3400000000000001, 0.0] | Journal Avg Quality: 0.33\n",
            "Strategy: ((1, 3, 0), 2) | Author Payoffs: [-0.21000000000000002, 0.0, 0.13000000000000006] | Journal Avg Quality: 0.38\n",
            "Strategy: ((1, 3, 1), 2) | Author Payoffs: [-0.21000000000000002, 0.0, -0.21000000000000002] | Journal Avg Quality: 0.67\n",
            "Strategy: ((1, 3, 2), 2) | Author Payoffs: [-0.21000000000000002, 0.0, 0.3400000000000001] | Journal Avg Quality: 0.33\n",
            "Strategy: ((1, 3, 3), 2) | Author Payoffs: [-0.21000000000000002, 0.0, 0.0] | Journal Avg Quality: 0.33\n",
            "Strategy: ((2, 0, 0), 2) | Author Payoffs: [0.3400000000000001, 0.13000000000000006, 0.13000000000000006] | Journal Avg Quality: 0.10\n",
            "Strategy: ((2, 0, 1), 2) | Author Payoffs: [0.3400000000000001, 0.13000000000000006, -0.21000000000000002] | Journal Avg Quality: 0.38\n",
            "Strategy: ((2, 0, 2), 2) | Author Payoffs: [0.3400000000000001, 0.13000000000000006, 0.3400000000000001] | Journal Avg Quality: 0.05\n",
            "Strategy: ((2, 0, 3), 2) | Author Payoffs: [0.3400000000000001, 0.13000000000000006, 0.0] | Journal Avg Quality: 0.05\n",
            "Strategy: ((2, 1, 0), 2) | Author Payoffs: [0.3400000000000001, -0.21000000000000002, 0.13000000000000006] | Journal Avg Quality: 0.38\n",
            "Strategy: ((2, 1, 1), 2) | Author Payoffs: [0.3400000000000001, -0.21000000000000002, -0.21000000000000002] | Journal Avg Quality: 0.67\n",
            "Strategy: ((2, 1, 2), 2) | Author Payoffs: [0.3400000000000001, -0.21000000000000002, 0.3400000000000001] | Journal Avg Quality: 0.33\n",
            "Strategy: ((2, 1, 3), 2) | Author Payoffs: [0.3400000000000001, -0.21000000000000002, 0.0] | Journal Avg Quality: 0.33\n",
            "Strategy: ((2, 2, 0), 2) | Author Payoffs: [0.3400000000000001, 0.3400000000000001, 0.13000000000000006] | Journal Avg Quality: 0.05\n",
            "Strategy: ((2, 2, 1), 2) | Author Payoffs: [0.3400000000000001, 0.3400000000000001, -0.21000000000000002] | Journal Avg Quality: 0.33\n",
            "Strategy: ((2, 2, 2), 2) | Author Payoffs: [0.3400000000000001, 0.3400000000000001, 0.3400000000000001] | Journal Avg Quality: 0.00\n",
            "Strategy: ((2, 2, 3), 2) | Author Payoffs: [0.3400000000000001, 0.3400000000000001, 0.0] | Journal Avg Quality: 0.00\n",
            "Strategy: ((2, 3, 0), 2) | Author Payoffs: [0.3400000000000001, 0.0, 0.13000000000000006] | Journal Avg Quality: 0.05\n",
            "Strategy: ((2, 3, 1), 2) | Author Payoffs: [0.3400000000000001, 0.0, -0.21000000000000002] | Journal Avg Quality: 0.33\n",
            "Strategy: ((2, 3, 2), 2) | Author Payoffs: [0.3400000000000001, 0.0, 0.3400000000000001] | Journal Avg Quality: 0.00\n",
            "Strategy: ((2, 3, 3), 2) | Author Payoffs: [0.3400000000000001, 0.0, 0.0] | Journal Avg Quality: 0.00\n",
            "Strategy: ((3, 0, 0), 2) | Author Payoffs: [0.0, 0.13000000000000006, 0.13000000000000006] | Journal Avg Quality: 0.10\n",
            "Strategy: ((3, 0, 1), 2) | Author Payoffs: [0.0, 0.13000000000000006, -0.21000000000000002] | Journal Avg Quality: 0.38\n",
            "Strategy: ((3, 0, 2), 2) | Author Payoffs: [0.0, 0.13000000000000006, 0.3400000000000001] | Journal Avg Quality: 0.05\n",
            "Strategy: ((3, 0, 3), 2) | Author Payoffs: [0.0, 0.13000000000000006, 0.0] | Journal Avg Quality: 0.05\n",
            "Strategy: ((3, 1, 0), 2) | Author Payoffs: [0.0, -0.21000000000000002, 0.13000000000000006] | Journal Avg Quality: 0.38\n",
            "Strategy: ((3, 1, 1), 2) | Author Payoffs: [0.0, -0.21000000000000002, -0.21000000000000002] | Journal Avg Quality: 0.67\n",
            "Strategy: ((3, 1, 2), 2) | Author Payoffs: [0.0, -0.21000000000000002, 0.3400000000000001] | Journal Avg Quality: 0.33\n",
            "Strategy: ((3, 1, 3), 2) | Author Payoffs: [0.0, -0.21000000000000002, 0.0] | Journal Avg Quality: 0.33\n",
            "Strategy: ((3, 2, 0), 2) | Author Payoffs: [0.0, 0.3400000000000001, 0.13000000000000006] | Journal Avg Quality: 0.05\n",
            "Strategy: ((3, 2, 1), 2) | Author Payoffs: [0.0, 0.3400000000000001, -0.21000000000000002] | Journal Avg Quality: 0.33\n",
            "Strategy: ((3, 2, 2), 2) | Author Payoffs: [0.0, 0.3400000000000001, 0.3400000000000001] | Journal Avg Quality: 0.00\n",
            "Strategy: ((3, 2, 3), 2) | Author Payoffs: [0.0, 0.3400000000000001, 0.0] | Journal Avg Quality: 0.00\n",
            "Strategy: ((3, 3, 0), 2) | Author Payoffs: [0.0, 0.0, 0.13000000000000006] | Journal Avg Quality: 0.05\n",
            "Strategy: ((3, 3, 1), 2) | Author Payoffs: [0.0, 0.0, -0.21000000000000002] | Journal Avg Quality: 0.33\n",
            "Strategy: ((3, 3, 2), 2) | Author Payoffs: [0.0, 0.0, 0.3400000000000001] | Journal Avg Quality: 0.00\n",
            "Strategy: ((3, 3, 3), 2) | Author Payoffs: [0.0, 0.0, 0.0] | Journal Avg Quality: 0.00\n",
            "Strategy: ((0, 0, 0), 3) | Author Payoffs: [-0.5, -0.5, -0.5] | Journal Avg Quality: 0.00\n",
            "Strategy: ((0, 0, 1), 3) | Author Payoffs: [-0.5, -0.5, -0.3] | Journal Avg Quality: 0.00\n",
            "Strategy: ((0, 0, 2), 3) | Author Payoffs: [-0.5, -0.5, -0.2] | Journal Avg Quality: 0.00\n",
            "Strategy: ((0, 0, 3), 3) | Author Payoffs: [-0.5, -0.5, 0.0] | Journal Avg Quality: 0.00\n",
            "Strategy: ((0, 1, 0), 3) | Author Payoffs: [-0.5, -0.3, -0.5] | Journal Avg Quality: 0.00\n",
            "Strategy: ((0, 1, 1), 3) | Author Payoffs: [-0.5, -0.3, -0.3] | Journal Avg Quality: 0.00\n",
            "Strategy: ((0, 1, 2), 3) | Author Payoffs: [-0.5, -0.3, -0.2] | Journal Avg Quality: 0.00\n",
            "Strategy: ((0, 1, 3), 3) | Author Payoffs: [-0.5, -0.3, 0.0] | Journal Avg Quality: 0.00\n",
            "Strategy: ((0, 2, 0), 3) | Author Payoffs: [-0.5, -0.2, -0.5] | Journal Avg Quality: 0.00\n",
            "Strategy: ((0, 2, 1), 3) | Author Payoffs: [-0.5, -0.2, -0.3] | Journal Avg Quality: 0.00\n",
            "Strategy: ((0, 2, 2), 3) | Author Payoffs: [-0.5, -0.2, -0.2] | Journal Avg Quality: 0.00\n",
            "Strategy: ((0, 2, 3), 3) | Author Payoffs: [-0.5, -0.2, 0.0] | Journal Avg Quality: 0.00\n",
            "Strategy: ((0, 3, 0), 3) | Author Payoffs: [-0.5, 0.0, -0.5] | Journal Avg Quality: 0.00\n",
            "Strategy: ((0, 3, 1), 3) | Author Payoffs: [-0.5, 0.0, -0.3] | Journal Avg Quality: 0.00\n",
            "Strategy: ((0, 3, 2), 3) | Author Payoffs: [-0.5, 0.0, -0.2] | Journal Avg Quality: 0.00\n",
            "Strategy: ((0, 3, 3), 3) | Author Payoffs: [-0.5, 0.0, 0.0] | Journal Avg Quality: 0.00\n",
            "Strategy: ((1, 0, 0), 3) | Author Payoffs: [-0.3, -0.5, -0.5] | Journal Avg Quality: 0.00\n",
            "Strategy: ((1, 0, 1), 3) | Author Payoffs: [-0.3, -0.5, -0.3] | Journal Avg Quality: 0.00\n",
            "Strategy: ((1, 0, 2), 3) | Author Payoffs: [-0.3, -0.5, -0.2] | Journal Avg Quality: 0.00\n",
            "Strategy: ((1, 0, 3), 3) | Author Payoffs: [-0.3, -0.5, 0.0] | Journal Avg Quality: 0.00\n",
            "Strategy: ((1, 1, 0), 3) | Author Payoffs: [-0.3, -0.3, -0.5] | Journal Avg Quality: 0.00\n",
            "Strategy: ((1, 1, 1), 3) | Author Payoffs: [-0.3, -0.3, -0.3] | Journal Avg Quality: 0.00\n",
            "Strategy: ((1, 1, 2), 3) | Author Payoffs: [-0.3, -0.3, -0.2] | Journal Avg Quality: 0.00\n",
            "Strategy: ((1, 1, 3), 3) | Author Payoffs: [-0.3, -0.3, 0.0] | Journal Avg Quality: 0.00\n",
            "Strategy: ((1, 2, 0), 3) | Author Payoffs: [-0.3, -0.2, -0.5] | Journal Avg Quality: 0.00\n",
            "Strategy: ((1, 2, 1), 3) | Author Payoffs: [-0.3, -0.2, -0.3] | Journal Avg Quality: 0.00\n",
            "Strategy: ((1, 2, 2), 3) | Author Payoffs: [-0.3, -0.2, -0.2] | Journal Avg Quality: 0.00\n",
            "Strategy: ((1, 2, 3), 3) | Author Payoffs: [-0.3, -0.2, 0.0] | Journal Avg Quality: 0.00\n",
            "Strategy: ((1, 3, 0), 3) | Author Payoffs: [-0.3, 0.0, -0.5] | Journal Avg Quality: 0.00\n",
            "Strategy: ((1, 3, 1), 3) | Author Payoffs: [-0.3, 0.0, -0.3] | Journal Avg Quality: 0.00\n",
            "Strategy: ((1, 3, 2), 3) | Author Payoffs: [-0.3, 0.0, -0.2] | Journal Avg Quality: 0.00\n",
            "Strategy: ((1, 3, 3), 3) | Author Payoffs: [-0.3, 0.0, 0.0] | Journal Avg Quality: 0.00\n",
            "Strategy: ((2, 0, 0), 3) | Author Payoffs: [-0.2, -0.5, -0.5] | Journal Avg Quality: 0.00\n",
            "Strategy: ((2, 0, 1), 3) | Author Payoffs: [-0.2, -0.5, -0.3] | Journal Avg Quality: 0.00\n",
            "Strategy: ((2, 0, 2), 3) | Author Payoffs: [-0.2, -0.5, -0.2] | Journal Avg Quality: 0.00\n",
            "Strategy: ((2, 0, 3), 3) | Author Payoffs: [-0.2, -0.5, 0.0] | Journal Avg Quality: 0.00\n",
            "Strategy: ((2, 1, 0), 3) | Author Payoffs: [-0.2, -0.3, -0.5] | Journal Avg Quality: 0.00\n",
            "Strategy: ((2, 1, 1), 3) | Author Payoffs: [-0.2, -0.3, -0.3] | Journal Avg Quality: 0.00\n",
            "Strategy: ((2, 1, 2), 3) | Author Payoffs: [-0.2, -0.3, -0.2] | Journal Avg Quality: 0.00\n",
            "Strategy: ((2, 1, 3), 3) | Author Payoffs: [-0.2, -0.3, 0.0] | Journal Avg Quality: 0.00\n",
            "Strategy: ((2, 2, 0), 3) | Author Payoffs: [-0.2, -0.2, -0.5] | Journal Avg Quality: 0.00\n",
            "Strategy: ((2, 2, 1), 3) | Author Payoffs: [-0.2, -0.2, -0.3] | Journal Avg Quality: 0.00\n",
            "Strategy: ((2, 2, 2), 3) | Author Payoffs: [-0.2, -0.2, -0.2] | Journal Avg Quality: 0.00\n",
            "Strategy: ((2, 2, 3), 3) | Author Payoffs: [-0.2, -0.2, 0.0] | Journal Avg Quality: 0.00\n",
            "Strategy: ((2, 3, 0), 3) | Author Payoffs: [-0.2, 0.0, -0.5] | Journal Avg Quality: 0.00\n",
            "Strategy: ((2, 3, 1), 3) | Author Payoffs: [-0.2, 0.0, -0.3] | Journal Avg Quality: 0.00\n",
            "Strategy: ((2, 3, 2), 3) | Author Payoffs: [-0.2, 0.0, -0.2] | Journal Avg Quality: 0.00\n",
            "Strategy: ((2, 3, 3), 3) | Author Payoffs: [-0.2, 0.0, 0.0] | Journal Avg Quality: 0.00\n",
            "Strategy: ((3, 0, 0), 3) | Author Payoffs: [0.0, -0.5, -0.5] | Journal Avg Quality: 0.00\n",
            "Strategy: ((3, 0, 1), 3) | Author Payoffs: [0.0, -0.5, -0.3] | Journal Avg Quality: 0.00\n",
            "Strategy: ((3, 0, 2), 3) | Author Payoffs: [0.0, -0.5, -0.2] | Journal Avg Quality: 0.00\n",
            "Strategy: ((3, 0, 3), 3) | Author Payoffs: [0.0, -0.5, 0.0] | Journal Avg Quality: 0.00\n",
            "Strategy: ((3, 1, 0), 3) | Author Payoffs: [0.0, -0.3, -0.5] | Journal Avg Quality: 0.00\n",
            "Strategy: ((3, 1, 1), 3) | Author Payoffs: [0.0, -0.3, -0.3] | Journal Avg Quality: 0.00\n",
            "Strategy: ((3, 1, 2), 3) | Author Payoffs: [0.0, -0.3, -0.2] | Journal Avg Quality: 0.00\n",
            "Strategy: ((3, 1, 3), 3) | Author Payoffs: [0.0, -0.3, 0.0] | Journal Avg Quality: 0.00\n",
            "Strategy: ((3, 2, 0), 3) | Author Payoffs: [0.0, -0.2, -0.5] | Journal Avg Quality: 0.00\n",
            "Strategy: ((3, 2, 1), 3) | Author Payoffs: [0.0, -0.2, -0.3] | Journal Avg Quality: 0.00\n",
            "Strategy: ((3, 2, 2), 3) | Author Payoffs: [0.0, -0.2, -0.2] | Journal Avg Quality: 0.00\n",
            "Strategy: ((3, 2, 3), 3) | Author Payoffs: [0.0, -0.2, 0.0] | Journal Avg Quality: 0.00\n",
            "Strategy: ((3, 3, 0), 3) | Author Payoffs: [0.0, 0.0, -0.5] | Journal Avg Quality: 0.00\n",
            "Strategy: ((3, 3, 1), 3) | Author Payoffs: [0.0, 0.0, -0.3] | Journal Avg Quality: 0.00\n",
            "Strategy: ((3, 3, 2), 3) | Author Payoffs: [0.0, 0.0, -0.2] | Journal Avg Quality: 0.00\n",
            "Strategy: ((3, 3, 3), 3) | Author Payoffs: [0.0, 0.0, 0.0] | Journal Avg Quality: 0.00\n"
          ]
        }
      ]
    },
    {
      "cell_type": "code",
      "source": [
        "# Find Nash equilibria and optimal journal strategy\n",
        "journal_best_strategy = None\n",
        "best_quality = -1\n",
        "final_equilibria = {}\n",
        "\n",
        "for journal_strategy in strategies:\n",
        "    payoff_matrix = np.array([[author_journal_payoff(a_strategy, journal_strategy, alpha, epsilon, lam, r, c)[0] for a_strategy in strategies] for _ in range(3)])\n",
        "    game = nash.Game(payoff_matrix)\n",
        "    equilibria = list(game.support_enumeration())\n",
        "    final_equilibria[journal_strategy] = equilibria\n",
        "\n",
        "    avg_quality = np.mean([author_journal_payoff(a, journal_strategy, alpha, epsilon, lam, r, c)[1] for a in strategies])\n",
        "    if avg_quality > best_quality:\n",
        "        best_quality = avg_quality\n",
        "        journal_best_strategy = journal_strategy\n"
      ],
      "metadata": {
        "id": "0Kl0_ZlNm2qP"
      },
      "execution_count": 30,
      "outputs": []
    },
    {
      "cell_type": "code",
      "source": [
        "# Get optimal strategy explicitly\n",
        "optimal_authors_strategies = max(itertools.product(strategies, repeat=3), key=lambda strat: np.mean([author_journal_payoff(a, journal_best_strategy, alpha, epsilon, lam, r, c)[0] for a in strat]))\n",
        "optimal_strategy_matrix = list(optimal_authors_strategies) + [journal_best_strategy]\n",
        "\n",
        "# Explicit payoffs for optimal strategy\n",
        "optimal_author_payoffs = [author_journal_payoff(a, journal_best_strategy, alpha, epsilon, lam, r, c)[0] for a in optimal_authors_strategies]\n",
        "optimal_journal_quality = np.mean([author_journal_payoff(a, journal_best_strategy, alpha, epsilon, lam, r, c)[1] for a in optimal_authors_strategies])\n",
        "\n",
        "# Output results\n",
        "print(f\"Optimal Strategy Matrix [author1, author2, author3, journal]: {optimal_strategy_matrix}\")\n",
        "print(f\"Optimal Author Payoffs: {optimal_author_payoffs}\")\n",
        "print(f\"Optimal Journal Strategy: {journal_best_strategy} with average quality: {optimal_journal_quality:.2f}\")\n",
        "print(f\"Final Nash Equilibria: {final_equilibria[journal_best_strategy]}\")\n"
      ],
      "metadata": {
        "colab": {
          "base_uri": "https://localhost:8080/"
        },
        "id": "8BgJ9afNZ28w",
        "outputId": "db7dbd21-84aa-4967-f694-fba2bf27f80a"
      },
      "execution_count": 31,
      "outputs": [
        {
          "output_type": "stream",
          "name": "stdout",
          "text": [
            "Optimal Strategy Matrix [author1, author2, author3, journal]: [1, 1, 1, 1]\n",
            "Optimal Author Payoffs: [0.51, 0.51, 0.51]\n",
            "Optimal Journal Strategy: 1 with average quality: 1.00\n",
            "Final Nash Equilibria: [(array([1., 0., 0.]), array([0., 0., 1., 0.])), (array([0., 1., 0.]), array([0., 0., 1., 0.])), (array([0., 0., 1.]), array([0., 0., 1., 0.]))]\n"
          ]
        }
      ]
    },
    {
      "cell_type": "code",
      "source": [
        "# Plotting impact of epsilon on author strategies for each journal strategy\n",
        "fig, axes = plt.subplots(2, 2, figsize=(12, 10), sharex=True, sharey=True)\n",
        "epsilon_values = np.linspace(0, 1, 100)\n",
        "\n",
        "for journal_strategy in strategies:\n",
        "    ax = axes.flatten()[journal_strategy]\n",
        "    for author_idx in range(3):\n",
        "        author_choices = []\n",
        "        for eps in epsilon_values:\n",
        "            payoffs = [author_journal_payoff(a, journal_strategy, alpha, eps, lam, r, c)[0] for a in strategies]\n",
        "            best_strategy = np.argmax(payoffs)\n",
        "            author_choices.append(best_strategy)\n",
        "\n",
        "        ax.plot(epsilon_values, author_choices, label=f\"Author {author_idx+1}\")\n",
        "\n",
        "    ax.set_title(f'Journal Strategy {journal_strategy}')\n",
        "    ax.set_xlabel('Epsilon')\n",
        "    ax.set_ylabel('Optimal Author Strategy')\n",
        "    ax.legend()\n",
        "\n",
        "plt.tight_layout()\n",
        "plt.show()\n"
      ],
      "metadata": {
        "colab": {
          "base_uri": "https://localhost:8080/",
          "height": 1000
        },
        "id": "uZFqfp9deCaX",
        "outputId": "16940787-c5c3-409a-ae3a-b9ac6d943ff2"
      },
      "execution_count": 34,
      "outputs": [
        {
          "output_type": "display_data",
          "data": {
            "text/plain": [
              "<Figure size 1200x1000 with 4 Axes>"
            ],
            "image/png": "[encoded data removed]"
          },
          "metadata": {}
        }
      ]
    }
  ]
}