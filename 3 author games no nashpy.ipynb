{
  "nbformat": 4,
  "nbformat_minor": 0,
  "metadata": {
    "colab": {
      "provenance": [],
      "authorship_tag": "ABX9TyMBfRCBC2GUPFyM/pWSOoF/",
      "include_colab_link": true
    },
    "kernelspec": {
      "name": "python3",
      "display_name": "Python 3"
    },
    "language_info": {
      "name": "python"
    }
  },
  "cells": [
    {
      "cell_type": "markdown",
      "metadata": {
        "id": "view-in-github",
        "colab_type": "text"
      },
      "source": [
        "<a href=\"https://colab.research.google.com/github/Bright-Momo/SimplifiedJournalsGame/blob/main/3%20author%20games%20no%20nashpy.ipynb\" target=\"_parent\"><img src=\"https://colab.research.google.com/assets/colab-badge.svg\" alt=\"Open In Colab\"/></a>"
      ]
    },
    {
      "cell_type": "code",
      "execution_count": 1,
      "metadata": {
        "id": "FTRAUB0vFNF9"
      },
      "outputs": [],
      "source": [
        "import numpy as np\n",
        "import itertools\n",
        "from tqdm import tqdm"
      ]
    },
    {
      "cell_type": "code",
      "source": [
        "# Parameters (same as in the original code)\n",
        "alpha = 0.6    # Probability of a good paper\n",
        "epsilon = 0.1  # Probability of misclassifying a good paper as bad\n",
        "lam = 0.1      # Probability of misclassifying a bad paper as good\n",
        "r = 1.0        # Reward for author when accepted\n",
        "c = 0.5        # Cost for author when rejected\n",
        "\n",
        "strategies = [0, 1, 2, 3]  # Always Submit, Only Submit Good, Only Submit Bad, No Submit"
      ],
      "metadata": {
        "id": "YNL1D7NvFzPT"
      },
      "execution_count": 3,
      "outputs": []
    },
    {
      "cell_type": "code",
      "source": [
        "# Function to calculate acceptance probability\n",
        "def acceptance_probability(is_good_paper, journal_strategy, epsilon, lam):\n",
        "    if journal_strategy == 0:  # Always Accept\n",
        "        return 1.0\n",
        "    elif journal_strategy == 1:  # Only Accept Good\n",
        "        return 1 - epsilon if is_good_paper else lam\n",
        "    elif journal_strategy == 2:  # Only Accept Bad\n",
        "        return epsilon if is_good_paper else 1 - lam\n",
        "    else:  # Reject All\n",
        "        return 0.0"
      ],
      "metadata": {
        "id": "V-2QFi8DF4XK"
      },
      "execution_count": 4,
      "outputs": []
    },
    {
      "cell_type": "code",
      "source": [
        "# Calculate author and journal payoffs\n",
        "def author_journal_payoff(author_strategy, journal_strategy, alpha, epsilon, lam, r, c):\n",
        "    if author_strategy == 0:  # Always Submit\n",
        "        good_prob, bad_prob = alpha, 1 - alpha\n",
        "    elif author_strategy == 1:  # Only Submit Good\n",
        "        good_prob, bad_prob = alpha, 0\n",
        "    elif author_strategy == 2:  # Only Submit Bad\n",
        "        good_prob, bad_prob = 0, 1 - alpha\n",
        "    else:  # No Submit\n",
        "        good_prob, bad_prob = 0, 0\n",
        "\n",
        "    p_accept_good = acceptance_probability(True, journal_strategy, epsilon, lam)\n",
        "    p_accept_bad = acceptance_probability(False, journal_strategy, epsilon, lam)\n",
        "\n",
        "    accept_rate = good_prob * p_accept_good + bad_prob * p_accept_bad\n",
        "    submit_rate = good_prob + bad_prob\n",
        "    reject_rate = submit_rate - accept_rate\n",
        "\n",
        "    author_payoff = accept_rate * r - reject_rate * c\n",
        "\n",
        "    # Average quality of accepted papers (journal's payoff)\n",
        "    if accept_rate > 0:\n",
        "        journal_payoff = (good_prob * p_accept_good) / accept_rate\n",
        "    else:\n",
        "        journal_payoff = 0\n",
        "\n",
        "    return author_payoff, journal_payoff"
      ],
      "metadata": {
        "id": "UHSTOrG_GO67"
      },
      "execution_count": 6,
      "outputs": []
    },
    {
      "cell_type": "code",
      "source": [
        "# Calculate author payoffs for a given strategy profile\n",
        "def calculate_author_payoffs(author_strategies, journal_strategy, alpha, epsilon, lam, r, c):\n",
        "    return [author_journal_payoff(author_strategy, journal_strategy, alpha, epsilon, lam, r, c)[0]\n",
        "            for author_strategy in author_strategies]\n",
        "\n",
        "# Calculate journal payoff for a given strategy profile\n",
        "def calculate_journal_payoff(author_strategies, journal_strategy, alpha, epsilon, lam, r, c):\n",
        "    journal_payoffs = [author_journal_payoff(author_strategy, journal_strategy, alpha, epsilon, lam, r, c)[1]\n",
        "                      for author_strategy in author_strategies]\n",
        "    # Average quality of all accepted papers\n",
        "    return np.mean(journal_payoffs)\n"
      ],
      "metadata": {
        "id": "7BLhoERlGqu8"
      },
      "execution_count": 7,
      "outputs": []
    },
    {
      "cell_type": "code",
      "source": [
        "# Check if a strategy profile is a Nash equilibrium\n",
        "def is_nash_equilibrium(strategy_profile, alpha, epsilon, lam, r, c):\n",
        "    author_strategies = strategy_profile[:-1]  # First 3 elements\n",
        "    journal_strategy = strategy_profile[-1]    # Last element\n",
        "\n",
        "    # Calculate current payoffs\n",
        "    author_payoffs = calculate_author_payoffs(author_strategies, journal_strategy, alpha, epsilon, lam, r, c)\n",
        "    journal_payoff = calculate_journal_payoff(author_strategies, journal_strategy, alpha, epsilon, lam, r, c)\n",
        "\n",
        "    # Check if any author can improve by deviating\n",
        "    for i in range(len(author_strategies)):\n",
        "        for alt_strategy in strategies:\n",
        "            if alt_strategy == author_strategies[i]:\n",
        "                continue\n",
        "\n",
        "            # Create new strategy profile with one author deviating\n",
        "            new_author_strategies = list(author_strategies)\n",
        "            new_author_strategies[i] = alt_strategy\n",
        "\n",
        "            # Calculate payoff with deviation\n",
        "            new_payoff = author_journal_payoff(alt_strategy, journal_strategy, alpha, epsilon, lam, r, c)[0]\n",
        "\n",
        "            # If author can improve by deviating, this is not a Nash equilibrium\n",
        "            if new_payoff > author_payoffs[i]:\n",
        "                return False\n",
        "\n",
        "    # Check if journal can improve by deviating\n",
        "    for alt_strategy in strategies:\n",
        "        if alt_strategy == journal_strategy:\n",
        "            continue\n",
        "\n",
        "        # Calculate journal payoff with deviation\n",
        "        new_journal_payoff = calculate_journal_payoff(author_strategies, alt_strategy, alpha, epsilon, lam, r, c)\n",
        "\n",
        "        # If journal can improve by deviating, this is not a Nash equilibrium\n",
        "        if new_journal_payoff > journal_payoff:\n",
        "            return False\n",
        "\n",
        "    # If no player can improve by deviating, this is a Nash equilibrium\n",
        "    return True"
      ],
      "metadata": {
        "id": "29y9Z1VaGvcD"
      },
      "execution_count": 8,
      "outputs": []
    },
    {
      "cell_type": "code",
      "source": [
        "# Find all Nash equilibria\n",
        "def find_nash_equilibria(alpha, epsilon, lam, r, c):\n",
        "    nash_equilibria = []\n",
        "\n",
        "    # Generate all possible strategy profiles\n",
        "    all_strategy_profiles = list(itertools.product(strategies, repeat=4))  # 3 authors + 1 journal\n",
        "\n",
        "    print(f\"Checking {len(all_strategy_profiles)} strategy profiles for Nash equilibria...\")\n",
        "\n",
        "    # Check each strategy profile\n",
        "    for profile in tqdm(all_strategy_profiles):\n",
        "        if is_nash_equilibrium(profile, alpha, epsilon, lam, r, c):\n",
        "            nash_equilibria.append(profile)\n",
        "\n",
        "    return nash_equilibria\n"
      ],
      "metadata": {
        "id": "sM9a-CQHG1Kq"
      },
      "execution_count": 9,
      "outputs": []
    },
    {
      "cell_type": "code",
      "source": [
        "# Display results in a more readable format\n",
        "def display_equilibria(equilibria, alpha, epsilon, lam, r, c):\n",
        "    print(f\"\\nFound {len(equilibria)} Nash equilibria:\")\n",
        "\n",
        "    for i, eq in enumerate(equilibria):\n",
        "        author_strategies = eq[:-1]\n",
        "        journal_strategy = eq[-1]\n",
        "\n",
        "        author_payoffs = calculate_author_payoffs(author_strategies, journal_strategy, alpha, epsilon, lam, r, c)\n",
        "        journal_payoff = calculate_journal_payoff(author_strategies, journal_strategy, alpha, epsilon, lam, r, c)\n",
        "\n",
        "        print(f\"\\nEquilibrium #{i+1}:\")\n",
        "        print(f\"  Author strategies: {author_strategies}\")\n",
        "        print(f\"  Journal strategy: {journal_strategy}\")\n",
        "        print(f\"  Author payoffs: {author_payoffs}\")\n",
        "        print(f\"  Journal avg quality: {journal_payoff:.2f}\")\n",
        "\n",
        "        # Interpret strategies\n",
        "        author_strat_names = []\n",
        "        for s in author_strategies:\n",
        "            if s == 0:\n",
        "                author_strat_names.append(\"Always Submit\")\n",
        "            elif s == 1:\n",
        "                author_strat_names.append(\"Only Submit Good\")\n",
        "            elif s == 2:\n",
        "                author_strat_names.append(\"Only Submit Bad\")\n",
        "            else:\n",
        "                author_strat_names.append(\"No Submit\")\n",
        "\n",
        "        if journal_strategy == 0:\n",
        "            journal_strat_name = \"Always Accept\"\n",
        "        elif journal_strategy == 1:\n",
        "            journal_strat_name = \"Only Accept Good\"\n",
        "        elif journal_strategy == 2:\n",
        "            journal_strat_name = \"Only Accept Bad\"\n",
        "        else:\n",
        "            journal_strat_name = \"Reject All\"\n",
        "\n",
        "        print(f\"  Interpretation:\")\n",
        "        for i, strat in enumerate(author_strat_names):\n",
        "            print(f\"    Author {i+1}: {strat}\")\n",
        "        print(f\"    Journal: {journal_strat_name}\")"
      ],
      "metadata": {
        "id": "LjqSF9WdG6mU"
      },
      "execution_count": 10,
      "outputs": []
    },
    {
      "cell_type": "code",
      "source": [
        "# Run the analysis\n",
        "if __name__ == \"__main__\":\n",
        "    # Get Nash equilibria\n",
        "    equilibria = find_nash_equilibria(alpha, epsilon, lam, r, c)\n",
        "\n",
        "    # Display results\n",
        "    display_equilibria(equilibria, alpha, epsilon, lam, r, c)"
      ],
      "metadata": {
        "colab": {
          "base_uri": "https://localhost:8080/"
        },
        "id": "J26BKiXYG8o3",
        "outputId": "e9991b33-30bb-47be-ad8a-dc36b87e7312"
      },
      "execution_count": 11,
      "outputs": [
        {
          "output_type": "stream",
          "name": "stdout",
          "text": [
            "Checking 256 strategy profiles for Nash equilibria...\n"
          ]
        },
        {
          "output_type": "stream",
          "name": "stderr",
          "text": [
            "100%|██████████| 256/256 [00:00<00:00, 35569.68it/s]"
          ]
        },
        {
          "output_type": "stream",
          "name": "stdout",
          "text": [
            "\n",
            "Found 3 Nash equilibria:\n",
            "\n",
            "Equilibrium #1:\n",
            "  Author strategies: (1, 1, 1)\n",
            "  Journal strategy: 1\n",
            "  Author payoffs: [0.51, 0.51, 0.51]\n",
            "  Journal avg quality: 1.00\n",
            "  Interpretation:\n",
            "    Author 1: Only Submit Good\n",
            "    Author 2: Only Submit Good\n",
            "    Author 3: Only Submit Good\n",
            "    Journal: Only Accept Good\n",
            "\n",
            "Equilibrium #2:\n",
            "  Author strategies: (2, 2, 2)\n",
            "  Journal strategy: 2\n",
            "  Author payoffs: [0.3400000000000001, 0.3400000000000001, 0.3400000000000001]\n",
            "  Journal avg quality: 0.00\n",
            "  Interpretation:\n",
            "    Author 1: Only Submit Bad\n",
            "    Author 2: Only Submit Bad\n",
            "    Author 3: Only Submit Bad\n",
            "    Journal: Only Accept Bad\n",
            "\n",
            "Equilibrium #3:\n",
            "  Author strategies: (3, 3, 3)\n",
            "  Journal strategy: 3\n",
            "  Author payoffs: [0.0, 0.0, 0.0]\n",
            "  Journal avg quality: 0.00\n",
            "  Interpretation:\n",
            "    Author 1: No Submit\n",
            "    Author 2: No Submit\n",
            "    Author 3: No Submit\n",
            "    Journal: Reject All\n"
          ]
        },
        {
          "output_type": "stream",
          "name": "stderr",
          "text": [
            "\n"
          ]
        }
      ]
    }
  ]
}