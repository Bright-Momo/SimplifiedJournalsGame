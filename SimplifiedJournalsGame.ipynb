{
  "nbformat": 4,
  "nbformat_minor": 0,
  "metadata": {
    "colab": {
      "provenance": [],
      "include_colab_link": true
    },
    "kernelspec": {
      "name": "python3",
      "display_name": "Python 3"
    },
    "language_info": {
      "name": "python"
    }
  },
  "cells": [
    {
      "cell_type": "markdown",
      "metadata": {
        "id": "view-in-github",
        "colab_type": "text"
      },
      "source": [
        "<a href=\"https://colab.research.google.com/github/Bright-Momo/SimplifiedJournalsGame/blob/main/SimplifiedJournalsGame.ipynb\" target=\"_parent\"><img src=\"https://colab.research.google.com/assets/colab-badge.svg\" alt=\"Open In Colab\"/></a>"
      ]
    },
    {
      "cell_type": "code",
      "source": [
        "!pip install nashpy\n"
      ],
      "metadata": {
        "colab": {
          "base_uri": "https://localhost:8080/"
        },
        "id": "7GkYar8Z4Yfy",
        "outputId": "150c7835-8ac2-4de5-a992-488fd3032b9e"
      },
      "execution_count": null,
      "outputs": [
        {
          "output_type": "stream",
          "name": "stdout",
          "text": [
            "Collecting nashpy\n",
            "  Downloading nashpy-0.0.41-py3-none-any.whl.metadata (6.6 kB)\n",
            "Requirement already satisfied: numpy>=1.21.0 in /usr/local/lib/python3.10/dist-packages (from nashpy) (1.26.4)\n",
            "Requirement already satisfied: scipy>=0.19.0 in /usr/local/lib/python3.10/dist-packages (from nashpy) (1.13.1)\n",
            "Requirement already satisfied: networkx>=3.0.0 in /usr/local/lib/python3.10/dist-packages (from nashpy) (3.4.2)\n",
            "Requirement already satisfied: deprecated>=1.2.14 in /usr/local/lib/python3.10/dist-packages (from nashpy) (1.2.15)\n",
            "Requirement already satisfied: wrapt<2,>=1.10 in /usr/local/lib/python3.10/dist-packages (from deprecated>=1.2.14->nashpy) (1.17.0)\n",
            "Downloading nashpy-0.0.41-py3-none-any.whl (27 kB)\n",
            "Installing collected packages: nashpy\n",
            "Successfully installed nashpy-0.0.41\n"
          ]
        }
      ]
    },
    {
      "cell_type": "code",
      "source": [
        "import nashpy as nash\n",
        "import numpy as np\n",
        "import matplotlib.pyplot as plt\n",
        "\n",
        "\n",
        "%matplotlib inline"
      ],
      "metadata": {
        "id": "cNhcKnbYhsu9"
      },
      "execution_count": null,
      "outputs": []
    },
    {
      "cell_type": "code",
      "source": [
        "\n",
        "# Parameters\n",
        "alpha = 0.6    # Probability of a good paper\n",
        "epsilon = 0.1  # Probability of misclassifying a good paper as bad\n",
        "lam = 0.1       # Probability of misclassifying a bad paper as good\n",
        "r = 1.0         # Reward for author when accepted\n",
        "c = 0.5         # Cost for author when rejected\n",
        "\n"
      ],
      "metadata": {
        "id": "xn8oLGSjhv6F"
      },
      "execution_count": null,
      "outputs": []
    },
    {
      "cell_type": "code",
      "source": [
        "# Journal payoff as average quality (as an example)\n",
        "def Q(alpha, epsilon, lam):\n",
        "    numerator = alpha * (1 - epsilon)\n",
        "    denominator = alpha * (1 - epsilon) + (1 - alpha) * lam\n",
        "    return numerator / denominator"
      ],
      "metadata": {
        "id": "BKFf01CUig4d"
      },
      "execution_count": null,
      "outputs": []
    },
    {
      "cell_type": "code",
      "execution_count": null,
      "metadata": {
        "id": "eFRl8m5j3wpl"
      },
      "outputs": [],
      "source": [
        "\n",
        "# Author: Rows = [Only_Submit_Good, Always_Submit]\n",
        "# Journal: Columns = [Only_Accept_Good, Always_Accept]\n",
        "\n",
        "# Calculate author payoffs\n",
        "\n",
        "def create_game(alpha, epsilon, lam, r, c):\n",
        "  P_acc_S_strict = alpha * (1 - epsilon)\n",
        "  U_A_1_1 = P_acc_S_strict * r - (1 - P_acc_S_strict) * c\n",
        "\n",
        "\n",
        "  # Probability that a good paper occurs is alpha, acceptance = 1 in that case.\n",
        "  U_A_1_2 = alpha * r\n",
        "\n",
        "  # Case 3: Author Always_Submit, Journal Only_Accept_Good\n",
        "  # Acceptance rate = alpha(1 - epsilon) + (1 - alpha)*lam\n",
        "  P_acc_S_always = alpha * (1 - epsilon) + (1 - alpha) * lam\n",
        "  U_A_2_1 = P_acc_S_always * r - (1 - P_acc_S_always) * c\n",
        "\n",
        "  # Case 4: Author Always_Submit, Journal Always_Accept\n",
        "  # Always accept means acceptance probability = 1\n",
        "  U_A_2_2 = r\n",
        "\n",
        "  author_payoffs = np.array([\n",
        "      [U_A_1_1, U_A_1_2],\n",
        "      [U_A_2_1, U_A_2_2]\n",
        "  ])\n",
        "\n",
        "  Q_strict = Q(alpha, epsilon, lam)  # Average quality if journal tries Only_Accept_Good\n",
        "  Q_lenient = alpha                  # If Always_Accept, average quality = alpha (all papers accepted)\n",
        "\n",
        "  # Journal payoffs:\n",
        "  U_J_1_1 = Q_strict    # (Only_Submit_Good, Only_Accept_Good)\n",
        "  U_J_1_2 = 1.0         # (Only_Submit_Good, Always_Accept) = 100% good (since only good are submitted)\n",
        "  U_J_2_1 = Q_strict\n",
        "  U_J_2_2 = Q_lenient\n",
        "  journal_payoffs = np.array([\n",
        "      [U_J_1_1, U_J_1_2],\n",
        "      [U_J_2_1, U_J_2_2]\n",
        "  ])\n",
        "\n",
        "  # Create the game\n",
        "  game = nash.Game(author_payoffs, journal_payoffs)\n",
        "  return game"
      ]
    },
    {
      "cell_type": "code",
      "source": [
        "def probability_of_scientist__self_selection(alpha, epsilon, lam, r, c):\n",
        "  game = create_game(alpha, epsilon, lam, r, c)\n",
        "  # Find Nash equilibria using support enumeration\n",
        "  equilibria = list(game.support_enumeration())\n",
        "  return equilibria[0][0][0]"
      ],
      "metadata": {
        "id": "lN1lRIGI4XsO"
      },
      "execution_count": null,
      "outputs": []
    },
    {
      "cell_type": "code",
      "source": [
        "def probability_of_journal__selection(alpha, epsilon, lam, r, c):\n",
        "  game = create_game(alpha, epsilon, lam, r, c)\n",
        "  # Find Nash equilibria using support enumeration\n",
        "  equilibria = list(game.support_enumeration())\n",
        "  return equilibria[0][1][0]"
      ],
      "metadata": {
        "id": "0Kl0_ZlNm2qP"
      },
      "execution_count": null,
      "outputs": []
    },
    {
      "cell_type": "code",
      "source": [
        "probability_of_scientist__self_selection(alpha, epsilon, lam, r, c)"
      ],
      "metadata": {
        "colab": {
          "base_uri": "https://localhost:8080/"
        },
        "id": "Nt5eNw8lj6bc",
        "outputId": "c2bda32a-8bf8-4251-c31e-141a44cf17c7"
      },
      "execution_count": null,
      "outputs": [
        {
          "output_type": "execute_result",
          "data": {
            "text/plain": [
              "0.0"
            ]
          },
          "metadata": {},
          "execution_count": 21
        }
      ]
    },
    {
      "cell_type": "code",
      "source": [
        "probability_of_scientist__self_selection(0.5, epsilon=0.1, lam=0.4, r=5, c=1)"
      ],
      "metadata": {
        "colab": {
          "base_uri": "https://localhost:8080/"
        },
        "id": "s6OMi4jPj8qz",
        "outputId": "dbd78804-091a-4bce-da26-3bdb31c6d780"
      },
      "execution_count": null,
      "outputs": [
        {
          "output_type": "execute_result",
          "data": {
            "text/plain": [
              "0.0"
            ]
          },
          "metadata": {},
          "execution_count": 22
        }
      ]
    },
    {
      "cell_type": "code",
      "source": [
        "x = np.linspace(0.0, 1.0, 100, True)\n",
        "for lam in [0.0001, 0.2, 0.4, 0.6, 0.8, 0.999]:\n",
        "    y = [probability_of_scientist__self_selection(0.5, epsilon=x_value, lam=lam, r=5, c=1) for x_value in x]\n",
        "    plt.plot(x, y, label=r\"$\\lambda =$ {}\".format(lam))\n",
        "plt.legend()\n",
        "plt.xlabel(r\"$\\epsilon$ -- good paper as bad\")\n",
        "plt.ylabel(\"Probability of self selection\")"
      ],
      "metadata": {
        "colab": {
          "base_uri": "https://localhost:8080/",
          "height": 470
        },
        "id": "wm5O8sCYlATW",
        "outputId": "19add1e0-9659-4a83-ded2-3f6288348915"
      },
      "execution_count": null,
      "outputs": [
        {
          "output_type": "execute_result",
          "data": {
            "text/plain": [
              "Text(0, 0.5, 'Probability of self selection')"
            ]
          },
          "metadata": {},
          "execution_count": 38
        },
        {
          "output_type": "display_data",
          "data": {
            "text/plain": [
              "<Figure size 640x480 with 1 Axes>"
            ],
            "image/png": "[encoded data removed]"
          },
          "metadata": {}
        }
      ]
    },
    {
      "cell_type": "code",
      "source": [
        "x = np.linspace(0.0, 1.0, 100, True)\n",
        "#[0.0001, 0.2, 0.4, 0.6, 0.8, 0.999]\n",
        "for lam in [0.1]:\n",
        "    y = [probability_of_journal__selection(0.5, epsilon=x_value, lam=lam, r=5, c=1) for x_value in x]\n",
        "    plt.plot(x, y, label=r\"$\\lambda =$ {}\".format(lam))\n",
        "plt.legend()"
      ],
      "metadata": {
        "colab": {
          "base_uri": "https://localhost:8080/",
          "height": 447
        },
        "id": "LYwtXQJNlWst",
        "outputId": "a5b9db96-bf57-4c57-aa5e-b9a0a3ad9943"
      },
      "execution_count": null,
      "outputs": [
        {
          "output_type": "execute_result",
          "data": {
            "text/plain": [
              "<matplotlib.legend.Legend at 0x7ad9f93bca00>"
            ]
          },
          "metadata": {},
          "execution_count": 39
        },
        {
          "output_type": "display_data",
          "data": {
            "text/plain": [
              "<Figure size 640x480 with 1 Axes>"
            ],
            "image/png": "[encoded data removed]"
          },
          "metadata": {}
        }
      ]
    },
    {
      "cell_type": "code",
      "source": [
        "\n",
        "# Define the range for x and y\n",
        "x = np.linspace(0.0001, 0.999, 100) # epsilon\n",
        "y = np.linspace(0.0001, 0.999, 100) # lambda\n",
        "\n",
        "# Create a meshgrid\n",
        "X, Y = np.meshgrid(x, y)\n",
        "\n",
        "# Define a function that takes x and y as input\n",
        "def condition_function(x, y):\n",
        "    return probability_of_journal__selection(0.5, epsilon=x, lam=y, r=1, c=1)\n",
        "\n",
        "# Initialize an empty binary matrix\n",
        "binary_matrix = np.zeros_like(X, dtype=int)\n",
        "\n",
        "# Populate the binary matrix using a loop\n",
        "for i in range(binary_matrix.shape[0]):  # Loop over rows\n",
        "    for j in range(binary_matrix.shape[1]):  # Loop over columns\n",
        "        if condition_function(X[i, j], Y[i, j]):\n",
        "            binary_matrix[i, j] = 1\n",
        "        else:\n",
        "            binary_matrix[i, j] = 0\n",
        "\n",
        "# Visualize the binary matrix\n",
        "plt.imshow(binary_matrix, extent=(0, 1, 0, 1), origin='lower', cmap='binary')\n",
        "plt.colorbar(label='Binary Value')\n",
        "plt.xlabel('Epsilon')\n",
        "plt.ylabel('Lambda')\n",
        "plt.title('Selective journal')\n",
        "plt.show()\n",
        "\n",
        "print('Binary Value')\n"
      ],
      "metadata": {
        "colab": {
          "base_uri": "https://localhost:8080/",
          "height": 472
        },
        "id": "XfCLYaHPnFTP",
        "outputId": "56e9a1e8-efc9-4337-dfa0-080d61080a7e"
      },
      "execution_count": null,
      "outputs": [
        {
          "output_type": "display_data",
          "data": {
            "text/plain": [
              "<Figure size 640x480 with 2 Axes>"
            ],
            "image/png": "[encoded data removed]"
          },
          "metadata": {}
        }
      ]
    },
    {
      "cell_type": "code",
      "source": [],
      "metadata": {
        "id": "LBQzJBKEpoFn"
      },
      "execution_count": null,
      "outputs": []
    }
  ]
}